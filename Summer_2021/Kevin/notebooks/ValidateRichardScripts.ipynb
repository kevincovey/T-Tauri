{
 "cells": [
  {
   "cell_type": "code",
   "execution_count": 2,
   "id": "4266f896",
   "metadata": {},
   "outputs": [],
   "source": [
    "#import numpy, scipy, math and astropy libraries\n",
    "import numpy as np\n",
    "import scipy as sp\n",
    "import math\n",
    "import astropy\n",
    "\n",
    "#import functions for reading data tables\n",
    "from astropy.io import ascii\n",
    "from astropy.table import Table, Column"
   ]
  },
  {
   "cell_type": "code",
   "execution_count": 5,
   "id": "f5abfd49",
   "metadata": {},
   "outputs": [],
   "source": [
    "#load functions originally written by Richard Ballantyne\n",
    "%run ../../../Modules/master.py"
   ]
  },
  {
   "cell_type": "code",
   "execution_count": 6,
   "id": "e2a25876",
   "metadata": {},
   "outputs": [],
   "source": [
    "#now try running the Brackett_Decrement_Plot function"
   ]
  },
  {
   "cell_type": "code",
   "execution_count": null,
   "id": "500f5d13",
   "metadata": {},
   "outputs": [],
   "source": []
  }
 ],
 "metadata": {
  "kernelspec": {
   "display_name": "Python 3",
   "language": "python",
   "name": "python3"
  },
  "language_info": {
   "codemirror_mode": {
    "name": "ipython",
    "version": 3
   },
   "file_extension": ".py",
   "mimetype": "text/x-python",
   "name": "python",
   "nbconvert_exporter": "python",
   "pygments_lexer": "ipython3",
   "version": "3.9.5"
  }
 },
 "nbformat": 4,
 "nbformat_minor": 5
}
